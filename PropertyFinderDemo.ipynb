{
 "cells": [
  {
   "cell_type": "markdown",
   "metadata": {},
   "source": [
    "# Wikidata PropertyFinder"
   ]
  },
  {
   "cell_type": "code",
   "execution_count": 1,
   "metadata": {},
   "outputs": [],
   "source": [
    "from PropertyFinder2 import PropertyFinder\n",
    "f = PropertyFinder()"
   ]
  },
  {
   "cell_type": "markdown",
   "metadata": {},
   "source": [
    "## Goal Description\n",
    "\n",
    "Combined with T2WML, this project (`PropertyFinder`) tries to find linkages between dataset columns and wikidata properties. \n",
    "\n",
    "Ideally, `PropertyFinder` will automatically suggest a property based on `header name` and annotation fields (e.g. `role` & `type`). If ambiguities remain, users should be able to refine their query string/type/scope so that the desire property will appear in top 5 of the ranked list returned.\n",
    "\n",
    "\n"
   ]
  },
  {
   "cell_type": "markdown",
   "metadata": {},
   "source": [
    "## Summary of results\n",
    "\n",
    "Using a combination of string similarity and counting, and the `world-modelers` dataset as a development set, the current `PropertyFinder` is able to locate `62%` of properties as its top choice of the ranked list, and `66%` as its top 5 choices. If users are allowed to refine their query string to reduce ambiguity, then `86%` of desired properties will appear as top choice, and `94%` will appear as top five choices."
   ]
  },
  {
   "cell_type": "markdown",
   "metadata": {},
   "source": [
    "## Inputs\n",
    "\n",
    "Currently, `PropertyFinder` accepts the following parameters:\n",
    "1. label (aka query string): column name, or user-defined input. \n",
    "   - Note: Due to some restrictions to the KGTK-search API, only the first 10 characters will be accepted by the index. Some complexities are addressed in the following.\n",
    "\n",
    "2. type_: wikidata type of the target property, for example quantity, item, time, etc.\n",
    "\n",
    "3. scope: qualifier/main value\n",
    "4. constraint: If input is a qualifier, the main property it modifies\n",
    "\n",
    "There are some other inputs, which are not used in this report"
   ]
  },
  {
   "cell_type": "markdown",
   "metadata": {},
   "source": [
    "## Finding Relevant Properties\n",
    "\n",
    "1. Send a query to `kgtk/search` and obtain a list of properties, filter by type\n",
    "2. Generate relevant properties of the properties in the list, using P1696, P1647, P6609, and P1659 (see also), filter by type. Three layer design:\n",
    "    - Layer 1: Properties returned by the index (highest priority)\n",
    "    - Layer 2: P1696, P1647, P6609 relevant properties\n",
    "    - Layer 3: P1659 (see also)\n",
    "3. Properties that break one of the constraints (e.g. scope) put to Layer 4 (Lowest priority)"
   ]
  },
  {
   "cell_type": "markdown",
   "metadata": {},
   "source": [
    "## Ranking Properties\n",
    "After PropertyFinder fetches and compiles the list of relevant properties, it will rank each property by two metrics:\n",
    "1. Similarity between the **names** (`label` & `aliases`) of the property and the **query string**\n",
    "2. Current property usages in wikidata\n",
    "\n",
    "The ranking here is very obvious:\n",
    "1. If the property label/alias is very similar to the query string, the property needs to be assigned a higher rank.\n",
    "2. If the property is used more in wikidata, it should be ranked higher. However, we should be cautious with the large number of usages may dwarf similarity measure, so we take the log of counts here.\n",
    "\n",
    "Let $p$ a property from wikidata, and $s$ be the query string, and $scope$ be the required scope (qualifier/main value) of the property. The score of $p$ can be expressed as:\n",
    "\n",
    "$$\\text{score}(p,s,scope) = \\text{reduce}(sim(p_{names}, s)) \\times ln (\\text{count}(p|scope)) $$\n",
    "\n",
    "`reduce` is simply a function to summarize the list of similarities. It can be mean or max, or some other weighting functions. Max is used in this project.\n",
    "\n",
    "`sim` is calculated by `difflib.SequenceMatcher`. Other similarity measures can also be applied.\n",
    "\n",
    "The ranking formula currently in this project is\n",
    "$$\\text{score}(p,s,scope) = \\text{max}(sim(p_{names}, s)) \\times ln (\\text{count}(p|scope)) $$\n",
    "\n",
    "Finally, within each layer, the properties are sorted by `score` in descending order."
   ]
  },
  {
   "cell_type": "markdown",
   "metadata": {},
   "source": [
    "### Test Data\n",
    "\n",
    "In order to examine the performance of PropertyFinder, I look up for the `world modeler` datasets from December, got their column header names, roles, types, and inferred groundtruths by referencing to `wikidata.org`.\n",
    "\n",
    "Note that a dataset may consider multiple spreadsheets, and the spreadsheets may be very similar. Columns with same header name are counted only `once`. However, `admin1` in different datasets may still be counted multiple times."
   ]
  },
  {
   "cell_type": "code",
   "execution_count": 2,
   "metadata": {},
   "outputs": [
    {
     "name": "stdout",
     "output_type": "stream",
     "text": [
      "Number of columns fetched: 101\n",
      "Number of columns with inferred properties: 51\n"
     ]
    }
   ],
   "source": [
    "import pandas as pd\n",
    "test_data = pd.read_csv('world_modelers.csv')\n",
    "test_data = test_data.where(test_data.notnull(), None)\n",
    "print('Number of columns fetched:', len(test_data))\n",
    "print('Number of columns with inferred properties:', test_data['expected property'].apply(lambda x: not x is None).sum())"
   ]
  },
  {
   "cell_type": "markdown",
   "metadata": {},
   "source": [
    "About half of the columns are assigned a wikidata property, which is good."
   ]
  },
  {
   "cell_type": "code",
   "execution_count": 3,
   "metadata": {},
   "outputs": [
    {
     "data": {
      "text/html": [
       "<div>\n",
       "<style scoped>\n",
       "    .dataframe tbody tr th:only-of-type {\n",
       "        vertical-align: middle;\n",
       "    }\n",
       "\n",
       "    .dataframe tbody tr th {\n",
       "        vertical-align: top;\n",
       "    }\n",
       "\n",
       "    .dataframe thead th {\n",
       "        text-align: right;\n",
       "    }\n",
       "</style>\n",
       "<table border=\"1\" class=\"dataframe\">\n",
       "  <thead>\n",
       "    <tr style=\"text-align: right;\">\n",
       "      <th></th>\n",
       "      <th>dataset_id</th>\n",
       "      <th>cname</th>\n",
       "      <th>role</th>\n",
       "      <th>type</th>\n",
       "      <th>expected property</th>\n",
       "      <th>label*</th>\n",
       "      <th>fixed name</th>\n",
       "    </tr>\n",
       "  </thead>\n",
       "  <tbody>\n",
       "    <tr>\n",
       "      <th>1</th>\n",
       "      <td>ACLED</td>\n",
       "      <td>event_date_formatted</td>\n",
       "      <td>qualifier</td>\n",
       "      <td>time</td>\n",
       "      <td>P585</td>\n",
       "      <td>None</td>\n",
       "      <td>event_date_formatted</td>\n",
       "    </tr>\n",
       "    <tr>\n",
       "      <th>2</th>\n",
       "      <td>ACLED</td>\n",
       "      <td>year</td>\n",
       "      <td>qualifier</td>\n",
       "      <td>time</td>\n",
       "      <td>P585</td>\n",
       "      <td>None</td>\n",
       "      <td>year</td>\n",
       "    </tr>\n",
       "    <tr>\n",
       "      <th>13</th>\n",
       "      <td>ACLED</td>\n",
       "      <td>country</td>\n",
       "      <td>main value</td>\n",
       "      <td>country</td>\n",
       "      <td>P17</td>\n",
       "      <td>None</td>\n",
       "      <td>country</td>\n",
       "    </tr>\n",
       "    <tr>\n",
       "      <th>14</th>\n",
       "      <td>ACLED</td>\n",
       "      <td>admin1</td>\n",
       "      <td>qualifier</td>\n",
       "      <td>location</td>\n",
       "      <td>P131</td>\n",
       "      <td>None</td>\n",
       "      <td>admin1</td>\n",
       "    </tr>\n",
       "    <tr>\n",
       "      <th>15</th>\n",
       "      <td>ACLED</td>\n",
       "      <td>admin2</td>\n",
       "      <td>qualifier</td>\n",
       "      <td>location</td>\n",
       "      <td>P131</td>\n",
       "      <td>None</td>\n",
       "      <td>admin2</td>\n",
       "    </tr>\n",
       "    <tr>\n",
       "      <th>16</th>\n",
       "      <td>ACLED</td>\n",
       "      <td>admin3</td>\n",
       "      <td>qualifier</td>\n",
       "      <td>location</td>\n",
       "      <td>P131</td>\n",
       "      <td>None</td>\n",
       "      <td>admin3</td>\n",
       "    </tr>\n",
       "    <tr>\n",
       "      <th>18</th>\n",
       "      <td>ACLED</td>\n",
       "      <td>latitude</td>\n",
       "      <td>qualifier</td>\n",
       "      <td>globe-coordinate</td>\n",
       "      <td>P625</td>\n",
       "      <td>None</td>\n",
       "      <td>latitude</td>\n",
       "    </tr>\n",
       "    <tr>\n",
       "      <th>19</th>\n",
       "      <td>ACLED</td>\n",
       "      <td>longitude</td>\n",
       "      <td>qualifier</td>\n",
       "      <td>globe-coordinate</td>\n",
       "      <td>P625</td>\n",
       "      <td>None</td>\n",
       "      <td>longitude</td>\n",
       "    </tr>\n",
       "    <tr>\n",
       "      <th>23</th>\n",
       "      <td>ACLED</td>\n",
       "      <td>fatalities</td>\n",
       "      <td>main value</td>\n",
       "      <td>quantity</td>\n",
       "      <td>P1120</td>\n",
       "      <td>number of deaths</td>\n",
       "      <td>fatalities</td>\n",
       "    </tr>\n",
       "  </tbody>\n",
       "</table>\n",
       "</div>"
      ],
      "text/plain": [
       "   dataset_id                 cname        role              type  \\\n",
       "1       ACLED  event_date_formatted   qualifier              time   \n",
       "2       ACLED                  year   qualifier              time   \n",
       "13      ACLED               country  main value           country   \n",
       "14      ACLED                admin1   qualifier          location   \n",
       "15      ACLED                admin2   qualifier          location   \n",
       "16      ACLED                admin3   qualifier          location   \n",
       "18      ACLED              latitude   qualifier  globe-coordinate   \n",
       "19      ACLED             longitude   qualifier  globe-coordinate   \n",
       "23      ACLED            fatalities  main value          quantity   \n",
       "\n",
       "   expected property            label*            fixed name  \n",
       "1               P585              None  event_date_formatted  \n",
       "2               P585              None                  year  \n",
       "13               P17              None               country  \n",
       "14              P131              None                admin1  \n",
       "15              P131              None                admin2  \n",
       "16              P131              None                admin3  \n",
       "18              P625              None              latitude  \n",
       "19              P625              None             longitude  \n",
       "23             P1120  number of deaths            fatalities  "
      ]
     },
     "execution_count": 3,
     "metadata": {},
     "output_type": "execute_result"
    }
   ],
   "source": [
    "test_data_wlabel = test_data[test_data['expected property'].apply(lambda x: not x is None)]\n",
    "test_data_wlabel.head(9)"
   ]
  },
  {
   "cell_type": "markdown",
   "metadata": {},
   "source": [
    "Most of the columns are `P585`, `P17`, or `P131`, but we do have some variable columns mapped to wikidata properties.\n",
    "\n",
    "---\n",
    "### Metrics\n",
    "\n",
    "Let's design a few metrics for our task. Since users will be able to manipulate the query string, and they can choose whether to apply the returned property to the column, recall is considered more important than precision here. For each column from the `world modeler` dataset, we consider whether groudtruth appears as one of the top ranked properties returned by our property finder. Here are some metrics to consider:\n",
    "- `find@1`: Whether groundtruth appears as the top ranked property returned by the finder. This metric measures the performance when property finder automatically assigns property types without user input.\n",
    "- `find@5`: Whether groundtruth appears as the top five ranked properties returned by the finder. This metric measures whether the finder can provide satisfactory search result for the user.\n",
    "- `no find`: Whether groundtruth does not appear in the ranked properties returned by the finder. This metric measures whether the finder can correctly identifies potential properties.\n",
    "\n",
    "The result is as follows:"
   ]
  },
  {
   "cell_type": "code",
   "execution_count": 4,
   "metadata": {},
   "outputs": [],
   "source": [
    "def find_index(lst, node):\n",
    "    if node in lst:\n",
    "        return lst.index(node)\n",
    "    return -1"
   ]
  },
  {
   "cell_type": "code",
   "execution_count": 5,
   "metadata": {},
   "outputs": [
    {
     "name": "stdout",
     "output_type": "stream",
     "text": [
      "find@1: 0.6274509803921569\n",
      "find@5: 0.6666666666666666\n",
      "no find 0.29411764705882354\n"
     ]
    }
   ],
   "source": [
    "test_data_wlabel['candidates'] = test_data_wlabel.apply(lambda r: [x[0] for x in f.generate_top_candidates(r['cname'], type_=r['type'], scope=r['role'], size=100)], axis=1)\n",
    "print('find@1:', test_data_wlabel.apply(lambda r: r['expected property'] in r['candidates'][:1], axis=1).sum() / len(test_data_wlabel))\n",
    "print('find@5:', test_data_wlabel.apply(lambda r: r['expected property'] in r['candidates'][:5], axis=1).sum() / len(test_data_wlabel))\n",
    "print('no find', test_data_wlabel.apply(lambda r: not r['expected property'] in r['candidates'], axis=1).sum() / len(test_data_wlabel))"
   ]
  },
  {
   "cell_type": "markdown",
   "metadata": {},
   "source": [
    "Here we can generate a list of properties where we cannot find relevant wikidata properties according to the property finder."
   ]
  },
  {
   "cell_type": "code",
   "execution_count": 6,
   "metadata": {
    "scrolled": false
   },
   "outputs": [
    {
     "data": {
      "text/html": [
       "<div>\n",
       "<style scoped>\n",
       "    .dataframe tbody tr th:only-of-type {\n",
       "        vertical-align: middle;\n",
       "    }\n",
       "\n",
       "    .dataframe tbody tr th {\n",
       "        vertical-align: top;\n",
       "    }\n",
       "\n",
       "    .dataframe thead th {\n",
       "        text-align: right;\n",
       "    }\n",
       "</style>\n",
       "<table border=\"1\" class=\"dataframe\">\n",
       "  <thead>\n",
       "    <tr style=\"text-align: right;\">\n",
       "      <th></th>\n",
       "      <th>dataset_id</th>\n",
       "      <th>cname</th>\n",
       "      <th>role</th>\n",
       "      <th>type</th>\n",
       "      <th>expected property</th>\n",
       "      <th>label*</th>\n",
       "      <th>fixed name</th>\n",
       "      <th>candidates</th>\n",
       "    </tr>\n",
       "  </thead>\n",
       "  <tbody>\n",
       "    <tr>\n",
       "      <th>25</th>\n",
       "      <td>CHIRPS</td>\n",
       "      <td>DateTime</td>\n",
       "      <td>qualifier</td>\n",
       "      <td>time</td>\n",
       "      <td>P585</td>\n",
       "      <td>None</td>\n",
       "      <td>Date Time</td>\n",
       "      <td>[]</td>\n",
       "    </tr>\n",
       "    <tr>\n",
       "      <th>28</th>\n",
       "      <td>ERA5</td>\n",
       "      <td>DateTime</td>\n",
       "      <td>qualifier</td>\n",
       "      <td>time</td>\n",
       "      <td>P585</td>\n",
       "      <td>None</td>\n",
       "      <td>Date Time</td>\n",
       "      <td>[]</td>\n",
       "    </tr>\n",
       "    <tr>\n",
       "      <th>31</th>\n",
       "      <td>ERA5</td>\n",
       "      <td>Mean Temperature</td>\n",
       "      <td>main value</td>\n",
       "      <td>quantity</td>\n",
       "      <td>P2076</td>\n",
       "      <td>temperature</td>\n",
       "      <td>Temperature</td>\n",
       "      <td>[]</td>\n",
       "    </tr>\n",
       "    <tr>\n",
       "      <th>32</th>\n",
       "      <td>MERRA2</td>\n",
       "      <td>DateTime</td>\n",
       "      <td>qualifier</td>\n",
       "      <td>time</td>\n",
       "      <td>P585</td>\n",
       "      <td>None</td>\n",
       "      <td>Date Time</td>\n",
       "      <td>[]</td>\n",
       "    </tr>\n",
       "    <tr>\n",
       "      <th>37</th>\n",
       "      <td>TerraClimate</td>\n",
       "      <td>DateTime</td>\n",
       "      <td>qualifier</td>\n",
       "      <td>time</td>\n",
       "      <td>P585</td>\n",
       "      <td>None</td>\n",
       "      <td>Date Time</td>\n",
       "      <td>[]</td>\n",
       "    </tr>\n",
       "    <tr>\n",
       "      <th>47</th>\n",
       "      <td>Kimetrica_Ethiopia_Crop_Production</td>\n",
       "      <td>Zone</td>\n",
       "      <td>qualifier</td>\n",
       "      <td>location</td>\n",
       "      <td>P131</td>\n",
       "      <td>None</td>\n",
       "      <td>admin</td>\n",
       "      <td>[P421, P3610, P8194, P8193]</td>\n",
       "    </tr>\n",
       "    <tr>\n",
       "      <th>51</th>\n",
       "      <td>Kimetrica_Ethiopia_Crop_Production</td>\n",
       "      <td>Area in hectare</td>\n",
       "      <td>main value</td>\n",
       "      <td>quantity</td>\n",
       "      <td>P2046</td>\n",
       "      <td>area</td>\n",
       "      <td>area</td>\n",
       "      <td>[]</td>\n",
       "    </tr>\n",
       "    <tr>\n",
       "      <th>53</th>\n",
       "      <td>Kimetrica_Ethiopia_Crop_Production</td>\n",
       "      <td>Yield</td>\n",
       "      <td>main value</td>\n",
       "      <td>quantity</td>\n",
       "      <td>P2197</td>\n",
       "      <td>production rate</td>\n",
       "      <td>production</td>\n",
       "      <td>[P2145, P5529, P5677]</td>\n",
       "    </tr>\n",
       "    <tr>\n",
       "      <th>63</th>\n",
       "      <td>FAO_Locust</td>\n",
       "      <td>STARTDATE</td>\n",
       "      <td>qualifier</td>\n",
       "      <td>time</td>\n",
       "      <td>P580</td>\n",
       "      <td>None</td>\n",
       "      <td>START DATE</td>\n",
       "      <td>[]</td>\n",
       "    </tr>\n",
       "    <tr>\n",
       "      <th>64</th>\n",
       "      <td>FAO_Locust</td>\n",
       "      <td>FINISHDATE</td>\n",
       "      <td>qualifier</td>\n",
       "      <td>time</td>\n",
       "      <td>P582</td>\n",
       "      <td>None</td>\n",
       "      <td>END DATE</td>\n",
       "      <td>[]</td>\n",
       "    </tr>\n",
       "    <tr>\n",
       "      <th>67</th>\n",
       "      <td>FAO_Locust</td>\n",
       "      <td>AREAHA</td>\n",
       "      <td>main value</td>\n",
       "      <td>quantity</td>\n",
       "      <td>P2046</td>\n",
       "      <td>area</td>\n",
       "      <td>area</td>\n",
       "      <td>[]</td>\n",
       "    </tr>\n",
       "    <tr>\n",
       "      <th>73</th>\n",
       "      <td>FAO_Locust</td>\n",
       "      <td>CTLARTREA</td>\n",
       "      <td>main value</td>\n",
       "      <td>quantity</td>\n",
       "      <td>P2046</td>\n",
       "      <td>area</td>\n",
       "      <td>area</td>\n",
       "      <td>[]</td>\n",
       "    </tr>\n",
       "    <tr>\n",
       "      <th>81</th>\n",
       "      <td>WFP_Food_Prices</td>\n",
       "      <td>admname</td>\n",
       "      <td>qualifier</td>\n",
       "      <td>location</td>\n",
       "      <td>P131</td>\n",
       "      <td>None</td>\n",
       "      <td>admin</td>\n",
       "      <td>[]</td>\n",
       "    </tr>\n",
       "    <tr>\n",
       "      <th>83</th>\n",
       "      <td>IHME_Wasting_Data</td>\n",
       "      <td>ADM0_NAME</td>\n",
       "      <td>qualifier</td>\n",
       "      <td>country</td>\n",
       "      <td>P17</td>\n",
       "      <td>None</td>\n",
       "      <td>country</td>\n",
       "      <td>[]</td>\n",
       "    </tr>\n",
       "    <tr>\n",
       "      <th>84</th>\n",
       "      <td>IHME_Wasting_Data</td>\n",
       "      <td>ADM1_NAME</td>\n",
       "      <td>qualifier</td>\n",
       "      <td>location</td>\n",
       "      <td>P131</td>\n",
       "      <td>None</td>\n",
       "      <td>admin</td>\n",
       "      <td>[]</td>\n",
       "    </tr>\n",
       "  </tbody>\n",
       "</table>\n",
       "</div>"
      ],
      "text/plain": [
       "                            dataset_id             cname        role  \\\n",
       "25                              CHIRPS          DateTime   qualifier   \n",
       "28                                ERA5          DateTime   qualifier   \n",
       "31                                ERA5  Mean Temperature  main value   \n",
       "32                              MERRA2          DateTime   qualifier   \n",
       "37                        TerraClimate          DateTime   qualifier   \n",
       "47  Kimetrica_Ethiopia_Crop_Production              Zone   qualifier   \n",
       "51  Kimetrica_Ethiopia_Crop_Production   Area in hectare  main value   \n",
       "53  Kimetrica_Ethiopia_Crop_Production             Yield  main value   \n",
       "63                          FAO_Locust         STARTDATE   qualifier   \n",
       "64                          FAO_Locust        FINISHDATE   qualifier   \n",
       "67                          FAO_Locust            AREAHA  main value   \n",
       "73                          FAO_Locust         CTLARTREA  main value   \n",
       "81                     WFP_Food_Prices           admname   qualifier   \n",
       "83                   IHME_Wasting_Data         ADM0_NAME   qualifier   \n",
       "84                   IHME_Wasting_Data         ADM1_NAME   qualifier   \n",
       "\n",
       "        type expected property           label*   fixed name  \\\n",
       "25      time              P585             None    Date Time   \n",
       "28      time              P585             None    Date Time   \n",
       "31  quantity             P2076      temperature  Temperature   \n",
       "32      time              P585             None    Date Time   \n",
       "37      time              P585             None    Date Time   \n",
       "47  location              P131             None        admin   \n",
       "51  quantity             P2046             area         area   \n",
       "53  quantity             P2197  production rate   production   \n",
       "63      time              P580             None   START DATE   \n",
       "64      time              P582             None     END DATE   \n",
       "67  quantity             P2046             area         area   \n",
       "73  quantity             P2046             area         area   \n",
       "81  location              P131             None        admin   \n",
       "83   country               P17             None      country   \n",
       "84  location              P131             None        admin   \n",
       "\n",
       "                     candidates  \n",
       "25                           []  \n",
       "28                           []  \n",
       "31                           []  \n",
       "32                           []  \n",
       "37                           []  \n",
       "47  [P421, P3610, P8194, P8193]  \n",
       "51                           []  \n",
       "53        [P2145, P5529, P5677]  \n",
       "63                           []  \n",
       "64                           []  \n",
       "67                           []  \n",
       "73                           []  \n",
       "81                           []  \n",
       "83                           []  \n",
       "84                           []  "
      ]
     },
     "execution_count": 6,
     "metadata": {},
     "output_type": "execute_result"
    }
   ],
   "source": [
    "test_data_wlabel[test_data_wlabel.apply(lambda r: not r['expected property'] in r['candidates'], axis=1)]"
   ]
  },
  {
   "cell_type": "markdown",
   "metadata": {},
   "source": [
    "### Failure Analysis: We can divide the failure cases into the following two categories"
   ]
  },
  {
   "cell_type": "markdown",
   "metadata": {},
   "source": [
    "#### 1. Some column names do not give information about the column\n",
    "For example, indices `81`, `83`, `84` are all about locations (admin), and the `KGTK-SEARCH` API cannot return relevant properties because the input is too vague. This can be easily fixed by the users since users have the domain knowledge about the dataset, and can therefore input query string that are more informative. For example, we can change `ADM1_NAME` at index `84` so that it would return relevant properties.\n",
    "\n",
    "Indices `25`, `28`, `32`, `37`, `63`, `64`, `51`, `67`, `73` also fall into this category.\n",
    "Indices `47` and `53` have used some aliases for the property, which is not present in wikidata."
   ]
  },
  {
   "cell_type": "code",
   "execution_count": 7,
   "metadata": {},
   "outputs": [
    {
     "data": {
      "text/plain": [
       "[]"
      ]
     },
     "execution_count": 7,
     "metadata": {},
     "output_type": "execute_result"
    }
   ],
   "source": [
    "# This one returns nothing\n",
    "f.generate_top_candidates('ADM1_NAME', scope='qualifier', type_='location')"
   ]
  },
  {
   "cell_type": "code",
   "execution_count": 8,
   "metadata": {},
   "outputs": [
    {
     "data": {
      "text/plain": [
       "[('P131',\n",
       "  'located in the administrative territorial entity',\n",
       "  6.62258060978968),\n",
       " ('P137', 'operator', 5.074493790515764),\n",
       " ('P159', 'headquarters location', 3.419636959130033)]"
      ]
     },
     "execution_count": 8,
     "metadata": {},
     "output_type": "execute_result"
    }
   ],
   "source": [
    "# This one returns the correct properties\n",
    "f.generate_top_candidates('admin1', scope='qualifier', type_='location', size=3)"
   ]
  },
  {
   "cell_type": "markdown",
   "metadata": {},
   "source": [
    "#### 2. Truncation issues with the `KGTK-SEARCH` API\n",
    "For index `31`, currently the `KGTK-SEARCH` API only supports a search string of maximum 10 characters. String with characters longer than 10 will be truncated to 10 characters in order to compliant with this requirement. Hence, the query string `Mean Temperature` will be converted to `Mean Tempe`, which will not make much sense for the finder to find relevant properties.\n",
    "\n",
    "Hence, users should always make sure the input is less or equal to 10 characters."
   ]
  },
  {
   "cell_type": "code",
   "execution_count": 9,
   "metadata": {},
   "outputs": [
    {
     "data": {
      "text/plain": [
       "[]"
      ]
     },
     "execution_count": 9,
     "metadata": {},
     "output_type": "execute_result"
    }
   ],
   "source": [
    "# Returns nothing\n",
    "f.generate_top_candidates('Mean Temperature', scope='qualifier', type_='location', size=3)"
   ]
  },
  {
   "cell_type": "markdown",
   "metadata": {},
   "source": [
    "##### KGTK-SEARCH DO NOT Accpet query string greater than 10 characters"
   ]
  },
  {
   "cell_type": "code",
   "execution_count": 10,
   "metadata": {},
   "outputs": [
    {
     "data": {
      "text/plain": [
       "[]"
      ]
     },
     "execution_count": 10,
     "metadata": {},
     "output_type": "execute_result"
    }
   ],
   "source": [
    "# Use the API directly, returns nothing because truncation\n",
    "f._query('Mean Temperature')"
   ]
  },
  {
   "cell_type": "markdown",
   "metadata": {},
   "source": [
    "---\n",
    "\n",
    "### Improvement\n",
    "After users fixed their query names, we can run property finder again to see how the search results have improved."
   ]
  },
  {
   "cell_type": "code",
   "execution_count": 11,
   "metadata": {},
   "outputs": [
    {
     "name": "stdout",
     "output_type": "stream",
     "text": [
      "find@1: 0.8627450980392157\n",
      "find@5: 0.9411764705882353\n",
      "no find 0.0\n"
     ]
    }
   ],
   "source": [
    "test_data_wlabel['candidates2'] = test_data_wlabel.apply(lambda r: [x[0] for x in f.generate_top_candidates(r['fixed name'], type_=r['type'], scope=r['role'], size=100)], axis=1)\n",
    "print('find@1:', test_data_wlabel.apply(lambda r: r['expected property'] in r['candidates2'][:1], axis=1).sum() / len(test_data_wlabel))\n",
    "print('find@5:', test_data_wlabel.apply(lambda r: r['expected property'] in r['candidates2'][:5], axis=1).sum() / len(test_data_wlabel))\n",
    "print('no find', test_data_wlabel.apply(lambda r: not r['expected property'] in r['candidates2'], axis=1).sum() / len(test_data_wlabel))"
   ]
  },
  {
   "cell_type": "markdown",
   "metadata": {},
   "source": [
    "The results improve greatly, now we have over 90% of cases where the real property falls within the top 5 categories. How did the remaining 10% cases go wrong?"
   ]
  },
  {
   "cell_type": "code",
   "execution_count": 12,
   "metadata": {},
   "outputs": [
    {
     "data": {
      "text/html": [
       "<div>\n",
       "<style scoped>\n",
       "    .dataframe tbody tr th:only-of-type {\n",
       "        vertical-align: middle;\n",
       "    }\n",
       "\n",
       "    .dataframe tbody tr th {\n",
       "        vertical-align: top;\n",
       "    }\n",
       "\n",
       "    .dataframe thead th {\n",
       "        text-align: right;\n",
       "    }\n",
       "</style>\n",
       "<table border=\"1\" class=\"dataframe\">\n",
       "  <thead>\n",
       "    <tr style=\"text-align: right;\">\n",
       "      <th></th>\n",
       "      <th>dataset_id</th>\n",
       "      <th>cname</th>\n",
       "      <th>role</th>\n",
       "      <th>type</th>\n",
       "      <th>expected property</th>\n",
       "      <th>label*</th>\n",
       "      <th>fixed name</th>\n",
       "      <th>candidates</th>\n",
       "      <th>candidates2</th>\n",
       "    </tr>\n",
       "  </thead>\n",
       "  <tbody>\n",
       "    <tr>\n",
       "      <th>31</th>\n",
       "      <td>ERA5</td>\n",
       "      <td>Mean Temperature</td>\n",
       "      <td>main value</td>\n",
       "      <td>quantity</td>\n",
       "      <td>P2076</td>\n",
       "      <td>temperature</td>\n",
       "      <td>Temperature</td>\n",
       "      <td>[]</td>\n",
       "      <td>[P6879, P6591, P7422, P5066, P2199, P5067, P21...</td>\n",
       "    </tr>\n",
       "    <tr>\n",
       "      <th>39</th>\n",
       "      <td>TerraClimate</td>\n",
       "      <td>Max Temperature</td>\n",
       "      <td>main value</td>\n",
       "      <td>quantity</td>\n",
       "      <td>P2076</td>\n",
       "      <td>temperature</td>\n",
       "      <td>Max Temperature</td>\n",
       "      <td>[P6591, P3252, P7422, P5066, P3253, P3251, P2076]</td>\n",
       "      <td>[P6591, P3252, P7422, P5066, P3253, P3251, P2076]</td>\n",
       "    </tr>\n",
       "    <tr>\n",
       "      <th>40</th>\n",
       "      <td>TerraClimate</td>\n",
       "      <td>Min Temperature</td>\n",
       "      <td>main value</td>\n",
       "      <td>quantity</td>\n",
       "      <td>P2076</td>\n",
       "      <td>temperature</td>\n",
       "      <td>Min Temperature</td>\n",
       "      <td>[P7422, P3251, P6591, P5067, P3253, P3252, P2076]</td>\n",
       "      <td>[P7422, P3251, P6591, P5067, P3253, P3252, P2076]</td>\n",
       "    </tr>\n",
       "  </tbody>\n",
       "</table>\n",
       "</div>"
      ],
      "text/plain": [
       "      dataset_id             cname        role      type expected property  \\\n",
       "31          ERA5  Mean Temperature  main value  quantity             P2076   \n",
       "39  TerraClimate   Max Temperature  main value  quantity             P2076   \n",
       "40  TerraClimate   Min Temperature  main value  quantity             P2076   \n",
       "\n",
       "         label*       fixed name  \\\n",
       "31  temperature      Temperature   \n",
       "39  temperature  Max Temperature   \n",
       "40  temperature  Min Temperature   \n",
       "\n",
       "                                           candidates  \\\n",
       "31                                                 []   \n",
       "39  [P6591, P3252, P7422, P5066, P3253, P3251, P2076]   \n",
       "40  [P7422, P3251, P6591, P5067, P3253, P3252, P2076]   \n",
       "\n",
       "                                          candidates2  \n",
       "31  [P6879, P6591, P7422, P5066, P2199, P5067, P21...  \n",
       "39  [P6591, P3252, P7422, P5066, P3253, P3251, P2076]  \n",
       "40  [P7422, P3251, P6591, P5067, P3253, P3252, P2076]  "
      ]
     },
     "execution_count": 12,
     "metadata": {},
     "output_type": "execute_result"
    }
   ],
   "source": [
    "misses = test_data_wlabel[test_data_wlabel.apply(lambda r: not r['expected property'] in r['candidates2'][:5], axis=1)]\n",
    "misses"
   ]
  },
  {
   "cell_type": "markdown",
   "metadata": {},
   "source": [
    "### Temperature\n",
    "The case of temperature is actually an interesting one."
   ]
  },
  {
   "cell_type": "code",
   "execution_count": 13,
   "metadata": {},
   "outputs": [
    {
     "data": {
      "text/plain": [
       "{1: [('P6879', 'effective temperature', 8.35644007575381),\n",
       "  ('P2076', 'temperature', 7.283954217570722),\n",
       "  ('P6591', 'maximum temperature record', 3.662040962227032),\n",
       "  ('P7422', 'minimum temperature record', 3.3243321142103706),\n",
       "  ('P5066', 'operating temperature', 2.618534213766516),\n",
       "  ('P2199', 'autoignition temperature', 2.4111472601006323),\n",
       "  ('P5067', 'non-operating temperature', 2.200084343834319),\n",
       "  ('P2113', 'sublimation temperature', 2.0386681781174865),\n",
       "  ('P3253', 'optimum viable temperature', 1.187688960722281),\n",
       "  ('P3251', 'minimum viable temperature', 0.5938444803611405),\n",
       "  ('P3252', 'maximum viable temperature', 0.5938444803611405),\n",
       "  ('P5682', 'heat deflection temperature', 0.3648143055578659),\n",
       "  ('P5670', 'glass transition temperature', 0.0)]}"
      ]
     },
     "execution_count": 13,
     "metadata": {},
     "output_type": "execute_result"
    }
   ],
   "source": [
    "# Without scope constraint, P2076 would rank first\n",
    "f.find_property('Temperature', 'quantity')"
   ]
  },
  {
   "cell_type": "code",
   "execution_count": 14,
   "metadata": {},
   "outputs": [
    {
     "data": {
      "text/plain": [
       "{1: [('P6879', 'effective temperature', 8.3564361737107),\n",
       "  ('P6591', 'maximum temperature record', 3.662040962227032),\n",
       "  ('P7422', 'minimum temperature record', 3.3243321142103706),\n",
       "  ('P5066', 'operating temperature', 2.618534213766516),\n",
       "  ('P2199', 'autoignition temperature', 2.4111472601006323),\n",
       "  ('P5067', 'non-operating temperature', 2.200084343834319),\n",
       "  ('P2113', 'sublimation temperature', 2.019992473226557),\n",
       "  ('P3253', 'optimum viable temperature', 1.1240224549620734),\n",
       "  ('P3251', 'minimum viable temperature', 0.3746741516540245),\n",
       "  ('P3252', 'maximum viable temperature', 0.3746741516540245),\n",
       "  ('P5682', 'heat deflection temperature', 0.3648143055578659),\n",
       "  ('P5670', 'glass transition temperature', 0.0)],\n",
       " 4: [('P2076', 'temperature', 5.7379407355935585)]}"
      ]
     },
     "execution_count": 14,
     "metadata": {},
     "output_type": "execute_result"
    }
   ],
   "source": [
    "# With scope == main value, P2076 moves to bottom tier for breaking the scope constraint\n",
    "f.find_property('Temperature', 'quantity', 'main value')"
   ]
  },
  {
   "cell_type": "markdown",
   "metadata": {},
   "source": [
    "The reason behind this is that, according to wikidata:\n",
    "\n",
    "> https://www.wikidata.org/wiki/Property:P2076\n",
    "\n",
    "`P2076` has a scope constraint as a `qualifier`. However, observing the weight generated by the property finder, it is clear some people use `P2076` as a `main value` (at least $e^{5.73} \\approx 308$ usages), and it looks like we also use it as a main value in the dataset as well.\n",
    "\n",
    "There may be a discussion whether it is ideal to implement a rule-based system based on constraints, since some of wikidata constraints are not even in the loosest term enforced."
   ]
  },
  {
   "cell_type": "code",
   "execution_count": null,
   "metadata": {},
   "outputs": [],
   "source": []
  }
 ],
 "metadata": {
  "kernelspec": {
   "display_name": "Python (kgtk-env)",
   "language": "python",
   "name": "kgtk-env"
  },
  "language_info": {
   "codemirror_mode": {
    "name": "ipython",
    "version": 3
   },
   "file_extension": ".py",
   "mimetype": "text/x-python",
   "name": "python",
   "nbconvert_exporter": "python",
   "pygments_lexer": "ipython3",
   "version": "3.7.8"
  }
 },
 "nbformat": 4,
 "nbformat_minor": 4
}
